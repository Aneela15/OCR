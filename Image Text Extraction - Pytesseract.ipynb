{
 "cells": [
  {
   "cell_type": "code",
   "execution_count": 1,
   "id": "7867b5dc",
   "metadata": {},
   "outputs": [],
   "source": [
    "import os # To import test image files\n",
    "import cv2 # To work with opencv images\n",
    "from PIL import Image # Image submodule to work with pillow images\n",
    "import pytesseract as pt # pytesseract module"
   ]
  },
  {
   "cell_type": "code",
   "execution_count": 6,
   "id": "e54d216f",
   "metadata": {},
   "outputs": [
    {
     "name": "stdout",
     "output_type": "stream",
     "text": [
      "abc-text.jpg\n",
      "bound-text-1.jpg\n",
      "bound-text-2.jpg\n",
      "contact-1.jpg\n",
      "hello-text.jpg\n",
      "hindi-news-1.jpg\n",
      "hindi-news-2.jpg\n",
      "hindi-text-1.jpg\n",
      "hindi-text-2.jpg\n",
      "image-paths.txt\n",
      "jap-text-1.png\n",
      "jap-text-2.png\n",
      "letter-1.png\n",
      "magazine-1.jpg\n",
      "news-1.png\n",
      "news-2.jpg\n",
      "portu-text-1.jpg\n",
      "portu-text-2.jpg\n",
      "selfie-circle.jpg\n",
      "sin-text-1.gif\n",
      "sin-text-2.gif\n",
      "span-text-1.png\n",
      "tam-text-1.png\n"
     ]
    }
   ],
   "source": [
    "test_img_path = \"Downloads/test images/\"\n",
    "create_path = lambda f : os.path.join(test_img_path, f)\n",
    "\n",
    "test_image_files = os.listdir(test_img_path)\n",
    "\n",
    "for f in test_image_files:\n",
    "    print(f)"
   ]
  },
  {
   "cell_type": "code",
   "execution_count": 11,
   "id": "27e88dec",
   "metadata": {},
   "outputs": [],
   "source": [
    "def show_image(img_path, size=(500, 500)):\n",
    "    image = cv2.imread(img_path)\n",
    "    image = cv2.resize(image, size)\n",
    "    \n",
    "    cv2.imshow(\"IMAGE\", image)\n",
    "    cv2.waitKey(0)\n",
    "    cv2.destroyAllWindows()"
   ]
  },
  {
   "cell_type": "code",
   "execution_count": 12,
   "id": "1fa4ba38",
   "metadata": {},
   "outputs": [],
   "source": [
    "# optional: only if you haven't configured PATH\n",
    "pt.pytesseract.tesseract_cmd = r\"C:\\Program Files\\Tesseract-OCR\\tesseract.exe\" # provide full path to tesseract.exe"
   ]
  },
  {
   "cell_type": "code",
   "execution_count": 13,
   "id": "61caf321",
   "metadata": {},
   "outputs": [
    {
     "name": "stdout",
     "output_type": "stream",
     "text": [
      "afr\n",
      "amh\n",
      "ara\n",
      "asm\n",
      "aze\n",
      "aze_cyrl\n",
      "bel\n",
      "ben\n",
      "bod\n",
      "bos\n",
      "bre\n",
      "bul\n",
      "cat\n",
      "ceb\n",
      "ces\n",
      "chi_sim\n",
      "chi_sim_vert\n",
      "chi_tra\n",
      "chi_tra_vert\n",
      "chr\n",
      "cos\n",
      "cym\n",
      "dan\n",
      "deu\n",
      "div\n",
      "dzo\n",
      "ell\n",
      "eng\n",
      "enm\n",
      "epo\n",
      "equ\n",
      "est\n",
      "eus\n",
      "fao\n",
      "fas\n",
      "fil\n",
      "fin\n",
      "fra\n",
      "frk\n",
      "frm\n",
      "fry\n",
      "gla\n",
      "gle\n",
      "glg\n",
      "grc\n",
      "guj\n",
      "hat\n",
      "heb\n",
      "hin\n",
      "hrv\n",
      "hun\n",
      "hye\n",
      "iku\n",
      "ind\n",
      "isl\n",
      "ita\n",
      "ita_old\n",
      "jav\n",
      "jpn\n",
      "jpn_vert\n",
      "kan\n",
      "kat\n",
      "kat_old\n",
      "kaz\n",
      "khm\n",
      "kir\n",
      "kmr\n",
      "kor\n",
      "lao\n",
      "lat\n",
      "lav\n",
      "lit\n",
      "ltz\n",
      "mal\n",
      "mar\n",
      "mkd\n",
      "mlt\n",
      "mon\n",
      "mri\n",
      "msa\n",
      "mya\n",
      "nep\n",
      "nld\n",
      "nor\n",
      "oci\n",
      "ori\n",
      "osd\n",
      "pan\n",
      "pol\n",
      "por\n",
      "pus\n",
      "que\n",
      "ron\n",
      "rus\n",
      "san\n",
      "sin\n",
      "slk\n",
      "slv\n",
      "snd\n",
      "spa\n",
      "spa_old\n",
      "sqi\n",
      "srp\n",
      "srp_latn\n",
      "sun\n",
      "swa\n",
      "swe\n",
      "syr\n",
      "tam\n",
      "tat\n",
      "tel\n",
      "tgk\n",
      "tha\n",
      "tir\n",
      "ton\n",
      "tur\n",
      "uig\n",
      "ukr\n",
      "urd\n",
      "uzb\n",
      "uzb_cyrl\n",
      "vie\n",
      "yid\n",
      "yor\n"
     ]
    }
   ],
   "source": [
    "# using cmd: tesseract --list-langs\n",
    "avb_langs = pt.get_languages(config='')\n",
    "\n",
    "for lang in avb_langs:\n",
    "    print(lang)"
   ]
  },
  {
   "cell_type": "code",
   "execution_count": 14,
   "id": "b0e6c8f7",
   "metadata": {},
   "outputs": [
    {
     "name": "stdout",
     "output_type": "stream",
     "text": [
      "Dear David,\n",
      "\n",
      "It's been a long time since we saw each\n",
      "other. Do you remember when we met\n",
      "in September, 2020 in Toronto?\n",
      "\n",
      "Well, so much has happened since then\n",
      "and I'm writing to tell you about my »\n",
      "\n",
      "good news!\n",
      "\n",
      "My Exam\n",
      "\n",
      "with\n",
      "Jonathan\n",
      "\n",
      "\n"
     ]
    }
   ],
   "source": [
    "image_path = test_image_files[12] # 2, 3, 12, 1, 13, 15\n",
    "path = create_path(image_path)\n",
    "\n",
    "image = Image.open(path)\n",
    "text = pt.image_to_string(image)\n",
    "\n",
    "print(text)\n",
    "#show_image(path)"
   ]
  },
  {
   "cell_type": "code",
   "execution_count": 7,
   "id": "d067c55b",
   "metadata": {},
   "outputs": [
    {
     "name": "stdout",
     "output_type": "stream",
     "text": [
      "Em novembro de 2016, o Ministro da Saúde russo confirmou que\n",
      "todos os indivíduos infectados poderiam ser testados em março;\n",
      "assim como seus familiares e amigos, eles podem fazer teste clínico\n",
      "em uma unidade cirúrgica do hospital da cidade em que são\n",
      "colocados, caso necessário. Também foi anunciado no mesmo dia\n",
      "que o Ministério do Trabalho revelou que as autoridades russas\n",
      "estão trabalhando em conjunto visando reduzir o número de mortes\n",
      "causadas pelas epidemias. A agência informou que a Agência\n",
      "Nacional de Vigilância Sanitária Russa (Anvisa) começou a\n",
      "monitorar a pandemia através de máscaras faciais nos hospitais.\n",
      "\n"
     ]
    }
   ],
   "source": [
    "path = create_path(\"portu-text-2.jpg\")\n",
    "\n",
    "image = Image.open(path)\n",
    "text = pt.image_to_string(image, lang='por')\n",
    "\n",
    "print(text)\n",
    "show_image(path)"
   ]
  },
  {
   "cell_type": "code",
   "execution_count": 8,
   "id": "d1ea3e2e",
   "metadata": {},
   "outputs": [
    {
     "name": "stdout",
     "output_type": "stream",
     "text": [
      "ar\n",
      "\n",
      "he\n",
      "\n",
      "DENTON d HON\n",
      "\n",
      "ISSUE NO.9.164\n",
      "Fs\n",
      "\n",
      "60\n",
      "\n",
      "MONDAY 22 FEBRUARY 2016 ‘WWW.INDEPENDENT.CO.UK\n",
      "\n",
      "The hypocrisy of ‘no platform’ fury voces»\n",
      "\n",
      "Robert Fisk Matthew Norman\n",
      "‘The Raqqa teacher ‘You may not like her, but\n",
      "evicted by her students | the world needs Hillary\n",
      "ss VoIcEs P.20 VOICES .20\n",
      "ee ae Virginia Ironside Ben Chu ‘\n",
      "= Group therapy is nothing | Help to Buy has barely i e\n",
      "\n",
      "Our failed Utopias to be frightened of helped at all Lena Dunham at 30\n",
      "Better worlds gone wrong sicreao DILEMMAS P.37 BUSINESS P53 On life after ‘Girls’ arrspao\n",
      "\n",
      "N\n",
      "\n",
      "‘After days of speculation, Boris Johnson announced yesterday that he will be ‘advocating Vote Leave ... because I want a better deal’ gpa\n",
      "\n",
      "Out for himse\n",
      "\n",
      "Boris Johnson confirms he will back Brexit — putting him in line for No 10 if UK votes to leave\n",
      "Downing Street fears up to 150 Tory MPs could defy PM by campaigning against his EU deal\n",
      "\n",
      "country out ofthe European Vote Leave”.Butsignificantly istovotetogo;because allEU of the “leave” campaign and\n",
      "\n",
      "Unionbybecomingthemost he seemed to suggest that a_ history shows that they only _ the front-runner to become\n",
      "\n",
      "significant Tory todeclare in “leave” vote might not nec- really listen toa population _ prime minister should be the\n",
      "\n",
      "favour of Brexit. essarily be final and could when it says no,\"he said. “I country vote Out in June’s\n",
      "Ms The London Mayor said instead resultina“newrela- wouldliketobeinareformed referendum.\n",
      "\n",
      "Boris Johnson has gambled yesterday that after a“huge tionship” betweenthe UKand  EUandthat’smyhope,anEU While Mr Cameron has\n",
      "\n",
      "his long-standing ambition amount ofheartache”he had _rest of Europe based upon that’s based on fundamental _insisted he would stay on\n",
      "\n",
      "OLIVER WRIGHT\n",
      "POLITICAL EDITOR\n",
      "\n",
      "to become Britain’s next made the “agonisingly diffi- “trade and co-operation”. treaty change. whatever the result, most\n",
      "\n",
      "prime minister on winning cult” decision to go against _“Thereisonlyonewaytoget_ Mr Johnson’s decision\n",
      "\n",
      "the referendum to pull the DavidCameronand“advocate thechangeweneed-andthat makes him the natural leader Continued on Ps >\n",
      "INSIDE: FULE RE a E\n",
      "\n",
      "\n"
     ]
    }
   ],
   "source": [
    "path = create_path(\"news-2.jpg\")\n",
    "\n",
    "image = Image.open(path)\n",
    "text = 'NO TEXT TO BE APPEARED'\n",
    "\n",
    "try:\n",
    "    text = pt.image_to_string(image, lang='eng', timeout=5)\n",
    "except RuntimeError as timeout_error:\n",
    "    print(\"[TIMEOUT ERROR]\")\n",
    "\n",
    "print(text)\n",
    "#show_image(path)"
   ]
  },
  {
   "cell_type": "code",
   "execution_count": 15,
   "id": "d00b69e9",
   "metadata": {
    "scrolled": true
   },
   "outputs": [
    {
     "name": "stdout",
     "output_type": "stream",
     "text": [
      "~ 173 91 175 116 0\n",
      "未 96 71 173 116 0\n",
      "練 159 72 233 111 0\n",
      "な 220 56 247 120 0\n",
      "く 255 75 273 113 0\n",
      "散 292 71 337 116 0\n",
      "も 351 74 375 111 0\n",
      "w 20 18 54 40 0\n",
      "i 57 19 67 51 0\n",
      "t 69 18 85 49 0\n",
      "h 89 19 114 52 0\n",
      "o 116 18 138 40 0\n",
      "u 141 18 166 40 0\n",
      "t 168 18 183 49 0\n",
      "r 204 19 220 40 0\n",
      "e 223 18 242 40 0\n",
      "g 245 9 267 41 0\n",
      "r 269 19 286 40 0\n",
      "e 289 18 307 40 0\n",
      "t 310 18 325 49 0\n",
      "~ 297 71 302 116 0\n",
      "\n"
     ]
    }
   ],
   "source": [
    "path = create_path(\"jap-text-1.png\")\n",
    "\n",
    "image = Image.open(path)\n",
    "bound_rects = pt.image_to_boxes(image, lang='jpn')\n",
    "\n",
    "print(bound_rects)\n",
    "#show_image(path)"
   ]
  },
  {
   "cell_type": "code",
   "execution_count": 10,
   "id": "b62ca31f",
   "metadata": {},
   "outputs": [],
   "source": [
    "img = cv2.imread(path)\n",
    "h, _, _ = img.shape\n",
    "\n",
    "for b in bound_rects.splitlines():\n",
    "    b = b.strip().split(' ')\n",
    "    img = cv2.rectangle(img, (int(b[1]), h - int(b[2])), (int(b[3]), h - int(b[4])), (0, 255, 0), 2)\n",
    "\n",
    "cv2.imshow(\"CHARACTERIZED IMAGE\", img)\n",
    "cv2.waitKey(0)\n",
    "cv2.destroyAllWindows()"
   ]
  },
  {
   "cell_type": "markdown",
   "id": "594cfd83",
   "metadata": {},
   "source": [
    "<u>\n",
    "    <h4>Get verbose data including boxes, confidences, line and page numbers</h4>\n",
    "</u>"
   ]
  },
  {
   "cell_type": "code",
   "execution_count": 18,
   "id": "76da99c3",
   "metadata": {},
   "outputs": [
    {
     "name": "stdout",
     "output_type": "stream",
     "text": [
      "level\tpage_num\tblock_num\tpar_num\tline_num\tword_num\tleft\ttop\twidth\theight\tconf\ttext\n",
      "1\t1\t0\t0\t0\t0\t0\t0\t674\t674\t-1\t\n",
      "2\t1\t1\t0\t0\t0\t11\t129\t653\t406\t-1\t\n",
      "3\t1\t1\t1\t0\t0\t11\t129\t653\t406\t-1\t\n",
      "4\t1\t1\t1\t1\t0\t123\t129\t427\t66\t-1\t\n",
      "5\t1\t1\t1\t1\t1\t123\t129\t206\t59\t95.682785\tWEAK\n",
      "5\t1\t1\t1\t1\t2\t351\t159\t199\t36\t0.000000\tprope\n",
      "4\t1\t1\t1\t2\t0\t179\t214\t312\t49\t-1\t\n",
      "5\t1\t1\t1\t2\t1\t179\t214\t312\t49\t94.726707\tREVENGE.\n",
      "4\t1\t1\t1\t3\t0\t95\t264\t485\t67\t-1\t\n",
      "5\t1\t1\t1\t3\t1\t95\t264\t262\t60\t93.304192\tSTRONG\n",
      "5\t1\t1\t1\t3\t2\t382\t296\t198\t35\t49.721970\tpEoPLE\n",
      "4\t1\t1\t1\t4\t0\t190\t350\t290\t42\t-1\t\n",
      "5\t1\t1\t1\t4\t1\t190\t350\t290\t42\t96.412842\tFORGIVE.\n",
      "4\t1\t1\t1\t5\t0\t11\t401\t653\t66\t-1\t\n",
      "5\t1\t1\t1\t5\t1\t11\t401\t430\t59\t93.241913\tINTELLIGENT\n",
      "5\t1\t1\t1\t5\t2\t466\t433\t198\t34\t19.838326\tpropLe\n",
      "4\t1\t1\t1\t6\t0\t208\t485\t255\t50\t-1\t\n",
      "5\t1\t1\t1\t6\t1\t208\t485\t255\t50\t96.290016\tIGNORE.\n",
      "2\t1\t2\t0\t0\t0\t323\t647\t351\t27\t-1\t\n",
      "3\t1\t2\t1\t0\t0\t323\t647\t351\t27\t-1\t\n",
      "4\t1\t2\t1\t1\t0\t323\t647\t351\t27\t-1\t\n",
      "5\t1\t2\t1\t1\t1\t323\t647\t351\t27\t95.000000\t \n",
      "\n"
     ]
    }
   ],
   "source": [
    "image_path = test_image_files[2]\n",
    "path = create_path(image_path)\n",
    "\n",
    "image = Image.open(path)\n",
    "text = pt.image_to_data(image)\n",
    "\n",
    "print(text)\n",
    "show_image(path)"
   ]
  },
  {
   "cell_type": "markdown",
   "id": "53d1f74a",
   "metadata": {},
   "source": [
    "<u>\n",
    "    <h4>Get information about orientation and script detection</h4>\n",
    "</u>"
   ]
  },
  {
   "cell_type": "code",
   "execution_count": 12,
   "id": "7d9952ae",
   "metadata": {},
   "outputs": [
    {
     "name": "stdout",
     "output_type": "stream",
     "text": [
      "Page number: 0\n",
      "Orientation in degrees: 270\n",
      "Rotate: 90\n",
      "Orientation confidence: 76.00\n",
      "Script: Latin\n",
      "Script confidence: 2.00\n",
      "\n"
     ]
    }
   ],
   "source": [
    "image_path = \"hindi-text-1.jpg\" # news-2.jpg hindi-news-1.jpg hindi-news-2.jpg hindi-text-1.jpg\n",
    "path = create_path(image_path)\n",
    "\n",
    "print(pt.image_to_osd(path, lang='hin'))"
   ]
  },
  {
   "cell_type": "markdown",
   "id": "7077208b",
   "metadata": {},
   "source": [
    "<u>\n",
    "    <h4>Convert in to different file formats (PDF, XML, HOCR)</h4>\n",
    "</u>"
   ]
  },
  {
   "cell_type": "code",
   "execution_count": 13,
   "id": "74b0116a",
   "metadata": {},
   "outputs": [],
   "source": [
    "image_path = \"news-2.jpg\"\n",
    "path = create_path(image_path)\n",
    "file_save_path = \"Downloads/files/\""
   ]
  },
  {
   "cell_type": "code",
   "execution_count": 14,
   "id": "e8e8f68c",
   "metadata": {},
   "outputs": [],
   "source": [
    "pdf = pt.image_to_pdf_or_hocr(path, extension='pdf')\n",
    "\n",
    "file = open(os.path.join(file_save_path, \"pdf-content.pdf\"), 'w+b')\n",
    "file.write(pdf)\n",
    "file.close()"
   ]
  },
  {
   "cell_type": "code",
   "execution_count": 15,
   "id": "90f7d502",
   "metadata": {},
   "outputs": [],
   "source": [
    "# hocr: open standard of data representation for formatted text obtained from (OCR)\n",
    "hocr = pt.image_to_pdf_or_hocr(path, extension='hocr')\n",
    "\n",
    "file = open(os.path.join(file_save_path, \"hocr-content.html\"), 'w+b')\n",
    "file.write(hocr)\n",
    "file.close()"
   ]
  },
  {
   "cell_type": "code",
   "execution_count": 16,
   "id": "6e165752",
   "metadata": {},
   "outputs": [],
   "source": [
    "xml = pt.image_to_alto_xml(path)\n",
    "\n",
    "file = open(os.path.join(file_save_path, \"xml-content.xml\"), 'w+b')\n",
    "file.write(xml)\n",
    "file.close()"
   ]
  },
  {
   "cell_type": "markdown",
   "id": "3b4faacb",
   "metadata": {},
   "source": [
    "# Converting Image text to Audio"
   ]
  },
  {
   "cell_type": "code",
   "execution_count": 19,
   "id": "3ff9f88c",
   "metadata": {},
   "outputs": [
    {
     "data": {
      "text/plain": [
       "0"
      ]
     },
     "execution_count": 19,
     "metadata": {},
     "output_type": "execute_result"
    }
   ],
   "source": [
    "from gtts import gTTS\n",
    "path = create_path('letter-1.png')\n",
    "img=cv2.imread(path)\n",
    "hImg, wImg, _ = img.shape\n",
    "\n",
    "boxes = pt.image_to_boxes(img)\n",
    "xy = pt.image_to_string(img)\n",
    "for b in boxes.splitlines():\n",
    "  b = b.split(' ')\n",
    "\n",
    "x, y, w, h = int(b[1]), int(b[2]), int(b[3]), int(b[4])\n",
    "cv2.rectangle(img, (x, hImg - y), (w, hImg - h), (50, 50, 255), 1)\n",
    "cv2.putText(img, b[0], (x, hImg - y + 13), cv2.FONT_HERSHEY_SIMPLEX, 0.4, (50, 205, 50), 1)\n",
    "\n",
    "cv2.imshow('Detected text', img)\n",
    "\n",
    "audio = gTTS(text = xy, lang = 'en', slow = False)\n",
    "audio.save(\"saved_audio.wav\")\n",
    "os.system(\"saved_audio.wav\")"
   ]
  }
 ],
 "metadata": {
  "kernelspec": {
   "display_name": "Python 3 (ipykernel)",
   "language": "python",
   "name": "python3"
  },
  "language_info": {
   "codemirror_mode": {
    "name": "ipython",
    "version": 3
   },
   "file_extension": ".py",
   "mimetype": "text/x-python",
   "name": "python",
   "nbconvert_exporter": "python",
   "pygments_lexer": "ipython3",
   "version": "3.10.7"
  }
 },
 "nbformat": 4,
 "nbformat_minor": 5
}
